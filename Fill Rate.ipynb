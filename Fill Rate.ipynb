{
 "cells": [
  {
   "cell_type": "code",
   "execution_count": null,
   "metadata": {},
   "outputs": [],
   "source": [
    "import pandas as pd\n",
    "import numpy as np\n",
    "\n",
    "\n",
    "# Importando as bases\n",
    "\n",
    "df_doc_1 = pd.read_excel('C:\\\\Users\\\\scosta\\\\Desktop\\\\Faturamento.xlsx') # Histórico de Faturamento 1\n",
    "df_doc_2 = pd.read_excel('C:\\\\Users\\\\scosta\\\\Desktop\\\\Faturamento_2.xlsx') # Histórico de Faturamento 2\n",
    "df_05 = pd.read_excel('C:\\\\Users\\\\scosta\\\\Desktop\\\\Análise Disponibilidade.xlsx', sheet_name='VA05_Hoje') # Análise de Disponibilidades dos Pedidos Pendentes de Atendimento\n",
    "\n",
    "print(\"Tabelas importadas com sucesso\")\n",
    "\n"
   ]
  },
  {
   "cell_type": "markdown",
   "metadata": {},
   "source": [
    "df_doc_1 - Faturamento\n",
    "\n",
    "df_doc_2 - Separação\n",
    "\n",
    "\n"
   ]
  },
  {
   "cell_type": "markdown",
   "metadata": {},
   "source": [
    "## Faturamento ##\n"
   ]
  },
  {
   "cell_type": "code",
   "execution_count": null,
   "metadata": {},
   "outputs": [],
   "source": [
    "# Filtrando a df_doc_1 todos os itens faturados\n",
    "indices_a_remover = df_doc_1[df_doc_1['TpDocVend.'] != 'Z000'].index\n",
    "df_doc_1 = df_doc_1.drop(indices_a_remover)\n",
    "indices_a_remover_2 = df_doc_1[df_doc_1['G~Ctg.NF'] != '1N'].index\n",
    "df_doc_1 = df_doc_1.drop(indices_a_remover_2)\n",
    "indices_a_remover_3 = df_doc_1[df_doc_1['G~Estornado'] == 'X'].index\n",
    "df_doc_1 = df_doc_1.drop(indices_a_remover_3)\n",
    "\n",
    "# Transformando colunas de datas\n",
    "df_doc_1['F~Dt.fatur.'] = pd.to_datetime(df_doc_1['F~Dt.fatur.'])\n",
    "df_doc_1['A~DtRefClnt.'] = pd.to_datetime(df_doc_1['A~DtRefClnt.'])\n",
    "\n",
    "linhas = len(df_doc_1)\n",
    "print(linhas)"
   ]
  },
  {
   "cell_type": "markdown",
   "metadata": {},
   "source": [
    "## Filtrando apenas o mês de interesse do faturamento ##"
   ]
  },
  {
   "cell_type": "code",
   "execution_count": null,
   "metadata": {},
   "outputs": [],
   "source": [
    "# Filtrando apenas o mês de interesse\n",
    "data_inicio_faturamento = pd.Timestamp('2024-12-01')\n",
    "data_fim_faturamento = pd.Timestamp('2024-12-31')\n",
    "df_doc_1 = df_doc_1[(df_doc_1['F~Dt.fatur.'] >= data_inicio_faturamento) & (df_doc_1['F~Dt.fatur.'] <= data_fim_faturamento)]\n",
    "\n",
    "linhas_2 = len(df_doc_1)\n",
    "print(linhas_2)"
   ]
  },
  {
   "cell_type": "code",
   "execution_count": null,
   "metadata": {},
   "outputs": [],
   "source": [
    "# Inserindo coluna com a diferença entre as datas de faturamento e datas do pedido do cliente\n",
    "df_doc_1['Diferenca_Dias'] = (df_doc_1['F~Dt.fatur.'] - df_doc_1['A~DtRefClnt.']).dt.days\n",
    "\n",
    "# Exibir as primeiras linhas do DataFrame para verificar a nova coluna\n",
    "print(df_doc_1[['F~Dt.fatur.', 'A~DtRefClnt.', 'Diferenca_Dias']].head())"
   ]
  },
  {
   "cell_type": "code",
   "execution_count": null,
   "metadata": {},
   "outputs": [],
   "source": [
    "# Inserindo coluna com o nome do tipo de pedido\n",
    "\n",
    "# Dicionário para mapear os valores de 'A~MotivoOrd' para os tipos de pedido\n",
    "mapeamento_tipo_pedido = {\n",
    "    'Z20': 'Express',\n",
    "    'Z25': 'Semanal',\n",
    "    'Z22': 'Estoque',\n",
    "    'Z35': 'Programado'\n",
    "}\n",
    "\n",
    "# Criar a coluna 'Tipo_Pedido' usando o mapeamento\n",
    "df_doc_1['Tipo_Pedido'] = df_doc_1['A~MotivoOrd'].map(mapeamento_tipo_pedido)\n",
    "\n",
    "#df_doc_1.head()"
   ]
  },
  {
   "cell_type": "markdown",
   "metadata": {},
   "source": [
    "Quantidade de dia para cada tipo de pedido:\n",
    "\n",
    "\n",
    "Express - 4 dias\n",
    "Semanal - 7 dias\n",
    "Estoque - 21 dias\n",
    "Programado - 120 dias"
   ]
  },
  {
   "cell_type": "code",
   "execution_count": null,
   "metadata": {},
   "outputs": [],
   "source": [
    "# Inserindo coluna com a verificação se o pedido faturado no mês de interesse atendeu os dias especificados\n",
    "\n",
    "# Definir as condições de acordo com os valores de 'A~MotivoOrd' e 'Diferenca_Dias'\n",
    "condicoes = [\n",
    "    ((df_doc_1['A~MotivoOrd'] == 'Z20') & (df_doc_1['Diferenca_Dias'] >= 0) & (df_doc_1['Diferenca_Dias'] <= 4)),\n",
    "    ((df_doc_1['A~MotivoOrd'] == 'Z25') & (df_doc_1['Diferenca_Dias'] >= 0) & (df_doc_1['Diferenca_Dias'] <= 7)),\n",
    "    ((df_doc_1['A~MotivoOrd'] == 'Z22') & (df_doc_1['Diferenca_Dias'] >= 0) & (df_doc_1['Diferenca_Dias'] <= 21)),\n",
    "    ((df_doc_1['A~MotivoOrd'] == 'Z35') & (df_doc_1['Diferenca_Dias'] >= 0) & (df_doc_1['Diferenca_Dias'] <= 120))\n",
    "]\n",
    "\n",
    "# Definir as escolhas correspondentes a cada condição\n",
    "escolhas = [\n",
    "    'Atendeu no Prazo',\n",
    "    'Atendeu no Prazo',\n",
    "    'Atendeu no Prazo',\n",
    "    'Atendeu no Prazo'\n",
    "]\n",
    "\n",
    "# Aplicar as condições e escolhas no DataFrame, 'Não Atendeu' é o padrão para quando nenhuma condição é verdadeira\n",
    "df_doc_1['Atendimento'] = np.select(condicoes, escolhas, default='Não Atendeu')\n",
    "\n",
    "#df_doc_1"
   ]
  },
  {
   "cell_type": "code",
   "execution_count": null,
   "metadata": {},
   "outputs": [],
   "source": [
    "# Contagem de linhas por tipo de pedido - Faturados\n",
    "\n",
    "# Verifica ambas as condições desejadas\n",
    "condicao_1 = (df_doc_1['Tipo_Pedido'] == 'Express') & (df_doc_1['Atendimento'] == 'Atendeu no Prazo')\n",
    "condicao_2 = (df_doc_1['Tipo_Pedido'] == 'Express') & (df_doc_1['Atendimento'] == 'Não Atendeu')\n",
    "\n",
    "condicao_3 = (df_doc_1['Tipo_Pedido'] == 'Semanal') & (df_doc_1['Atendimento'] == 'Atendeu no Prazo')\n",
    "condicao_4 = (df_doc_1['Tipo_Pedido'] == 'Semanal') & (df_doc_1['Atendimento'] == 'Não Atendeu')\n",
    "\n",
    "condicao_5 = (df_doc_1['Tipo_Pedido'] == 'Estoque') & (df_doc_1['Atendimento'] == 'Atendeu no Prazo')\n",
    "condicao_6 = (df_doc_1['Tipo_Pedido'] == 'Estoque') & (df_doc_1['Atendimento'] == 'Não Atendeu')\n",
    "\n",
    "condicao_7 = (df_doc_1['Tipo_Pedido'] == 'Programado') & (df_doc_1['Atendimento'] == 'Atendeu no Prazo')\n",
    "condicao_8 = (df_doc_1['Tipo_Pedido'] == 'Programado') & (df_doc_1['Atendimento'] == 'Não Atendeu')\n",
    "\n",
    "\n",
    "# Contar as linhas que satisfazem a condição\n",
    "express_s1 = condicao_1.sum()\n",
    "express_n1 = condicao_2.sum()\n",
    "\n",
    "semanal_s1 = condicao_3.sum()\n",
    "semanal_n1 = condicao_4.sum()\n",
    "\n",
    "estoque_s1 = condicao_5.sum()\n",
    "estoque_n1 = condicao_6.sum()\n",
    "\n",
    "programado_s1 = condicao_7.sum()\n",
    "programado_n1 = condicao_8.sum()\n",
    "\n",
    "soma_linhas_totais_1 = express_s1 + express_n1 + semanal_s1 + semanal_n1 + estoque_s1 + estoque_n1 + programado_s1 + programado_n1\n",
    "\n",
    "soma_linhas_express_1 = express_s1 + express_n1\n",
    "soma_linhas_semanal_1 = semanal_s1 + semanal_n1\n",
    "soma_linhas_estoque_1 = estoque_s1 + estoque_n1\n",
    "soma_linhas_programado_1 = programado_s1 + programado_n1\n",
    "\n",
    "print(f'O total de linhas é {soma_linhas_totais_1} sendo: \\n express: {soma_linhas_express_1} \\n semanal: {soma_linhas_semanal_1} \\n estoque {soma_linhas_estoque_1} \\n programado {soma_linhas_programado_1}')"
   ]
  },
  {
   "cell_type": "markdown",
   "metadata": {},
   "source": [
    "## Separação ##"
   ]
  },
  {
   "cell_type": "code",
   "execution_count": null,
   "metadata": {},
   "outputs": [],
   "source": [
    "# Filtrando a df_doc_2 - separação\n",
    "df_doc_2 = df_doc_2[df_doc_2['G~Ctg.NF'].isna() | (df_doc_2['G~Ctg.NF'] == '')]\n",
    "indices_a_remover_4 = df_doc_2[df_doc_2['TpDocVend.'] != 'Z000'].index\n",
    "df_doc_2 = df_doc_2.drop(indices_a_remover_4)\n",
    "df_doc_2 = df_doc_2[df_doc_2['Fornmto.'].notna()]\n",
    "\n",
    "# Transformando colunas de datas\n",
    "df_doc_2['F~Dt.fatur.'] = pd.to_datetime(df_doc_2['F~Dt.fatur.'])\n",
    "df_doc_2['A~DtRefClnt.'] = pd.to_datetime(df_doc_2['A~DtRefClnt.'])\n",
    "\n",
    "linhas = len(df_doc_2)\n",
    "print(linhas)"
   ]
  },
  {
   "cell_type": "markdown",
   "metadata": {},
   "source": [
    "## Filtrando apenas o mês de interesse do faturamento ##"
   ]
  },
  {
   "cell_type": "code",
   "execution_count": null,
   "metadata": {},
   "outputs": [],
   "source": [
    "# Filtrando apenas o mês de interesse\n",
    "data_inicio_faturamento_2 = pd.Timestamp('2024-12-01')\n",
    "data_fim_faturamento_2 = pd.Timestamp('2024-12-31')\n",
    "df_doc_2 = df_doc_2[(df_doc_2['F~Dt.fatur.'] >= data_inicio_faturamento) & (df_doc_2['F~Dt.fatur.'] <= data_fim_faturamento)]\n",
    "\n",
    "linhas_3 = len(df_doc_2)\n",
    "print(linhas_3)"
   ]
  },
  {
   "cell_type": "code",
   "execution_count": null,
   "metadata": {},
   "outputs": [],
   "source": [
    "# Inserindo coluna com a diferença entre as datas de faturamento e datas do pedido do cliente\n",
    "df_doc_2['Diferenca_Dias_2'] = (df_doc_2['F~Dt.fatur.'] - df_doc_2['A~DtRefClnt.']).dt.days\n",
    "\n",
    "# Exibir as primeiras linhas do DataFrame para verificar a nova coluna\n",
    "print(df_doc_2[['F~Dt.fatur.', 'A~DtRefClnt.', 'Diferenca_Dias_2']].head())"
   ]
  },
  {
   "cell_type": "code",
   "execution_count": null,
   "metadata": {},
   "outputs": [],
   "source": [
    "# Inserindo coluna com o nome do tipo de pedido\n",
    "\n",
    "# Dicionário para mapear os valores de 'A~MotivoOrd' para os tipos de pedido\n",
    "mapeamento_tipo_pedido = {\n",
    "    'Z20': 'Express',\n",
    "    'Z25': 'Semanal',\n",
    "    'Z22': 'Estoque',\n",
    "    'Z35': 'Programado'\n",
    "}\n",
    "\n",
    "# Criar a coluna 'Tipo_Pedido' usando o mapeamento\n",
    "df_doc_2['Tipo_Pedido_2'] = df_doc_2['A~MotivoOrd'].map(mapeamento_tipo_pedido)\n",
    "\n",
    "df_doc_2.head"
   ]
  },
  {
   "cell_type": "code",
   "execution_count": null,
   "metadata": {},
   "outputs": [],
   "source": [
    "# Inserindo coluna com a verificação se o pedido faturado no mês de interesse atendeu os dias especificados\n",
    "\n",
    "# Definir as condições de acordo com os valores de 'A~MotivoOrd' e 'Diferenca_Dias'\n",
    "condicoes_2 = [\n",
    "    ((df_doc_2['A~MotivoOrd'] == 'Z20') & (df_doc_2['Diferenca_Dias_2'] >= 0) & (df_doc_2['Diferenca_Dias_2'] <= 4)),\n",
    "    ((df_doc_2['A~MotivoOrd'] == 'Z25') & (df_doc_2['Diferenca_Dias_2'] >= 0) & (df_doc_2['Diferenca_Dias_2'] <= 7)),\n",
    "    ((df_doc_2['A~MotivoOrd'] == 'Z22') & (df_doc_2['Diferenca_Dias_2'] >= 0) & (df_doc_2['Diferenca_Dias_2'] <= 21)),\n",
    "    ((df_doc_2['A~MotivoOrd'] == 'Z35') & (df_doc_2['Diferenca_Dias_2'] >= 0) & (df_doc_2['Diferenca_Dias_2'] <= 120))\n",
    "]\n",
    "\n",
    "# Definir as escolhas correspondentes a cada condição\n",
    "escolhas_2 = [\n",
    "    'Atendeu no Prazo',\n",
    "    'Atendeu no Prazo',\n",
    "    'Atendeu no Prazo',\n",
    "    'Atendeu no Prazo'\n",
    "]\n",
    "\n",
    "# Aplicar as condições e escolhas no DataFrame, 'Não Atendeu' é o padrão para quando nenhuma condição é verdadeira\n",
    "df_doc_2['Atendimento_2'] = np.select(condicoes_2, escolhas_2, default='Não Atendeu')\n",
    "\n",
    "df_doc_2"
   ]
  },
  {
   "cell_type": "code",
   "execution_count": null,
   "metadata": {},
   "outputs": [],
   "source": [
    "# Contagem de linhas por tipo de pedido - Separação\n",
    "\n",
    "# Verifica ambas as condições desejadas\n",
    "condicao_9 = (df_doc_2['Tipo_Pedido_2'] == 'Express') & (df_doc_2['Atendimento_2'] == 'Atendeu no Prazo')\n",
    "condicao_10 = (df_doc_2['Tipo_Pedido_2'] == 'Express') & (df_doc_2['Atendimento_2'] == 'Não Atendeu')\n",
    "\n",
    "condicao_11 = (df_doc_2['Tipo_Pedido_2'] == 'Semanal') & (df_doc_2['Atendimento_2'] == 'Atendeu no Prazo')\n",
    "condicao_12 = (df_doc_2['Tipo_Pedido_2'] == 'Semanal') & (df_doc_2['Atendimento_2'] == 'Não Atendeu')\n",
    "\n",
    "condicao_13 = (df_doc_2['Tipo_Pedido_2'] == 'Estoque') & (df_doc_2['Atendimento_2'] == 'Atendeu no Prazo')\n",
    "condicao_14 = (df_doc_2['Tipo_Pedido_2'] == 'Estoque') & (df_doc_2['Atendimento_2'] == 'Não Atendeu')\n",
    "\n",
    "condicao_15 = (df_doc_2['Tipo_Pedido_2'] == 'Programado') & (df_doc_2['Atendimento_2'] == 'Atendeu no Prazo')\n",
    "condicao_16 = (df_doc_2['Tipo_Pedido_2'] == 'Programado') & (df_doc_2['Atendimento_2'] == 'Não Atendeu')\n",
    "\n",
    "# Contar as linhas que satisfazem a condição\n",
    "express_s2 = condicao_9.sum()\n",
    "express_n2 = condicao_10.sum()\n",
    "\n",
    "semanal_s2 = condicao_11.sum()\n",
    "semanal_n2 = condicao_12.sum()\n",
    "\n",
    "estoque_s2 = condicao_13.sum()\n",
    "estoque_n2 = condicao_14.sum()\n",
    "\n",
    "programado_s2 = condicao_15.sum()\n",
    "programado_n2 = condicao_16.sum()\n",
    "\n",
    "soma_linhas_totais_2 = express_s2 + express_n2 + semanal_s2 + semanal_n2 + estoque_s2 + estoque_n2 + programado_s2 + programado_n2\n",
    "\n",
    "soma_linhas_express_2 = express_s2 + express_n2\n",
    "soma_linhas_semanal_2 = semanal_s2 + semanal_n2\n",
    "soma_linhas_estoque_2 = estoque_s2 + estoque_n2\n",
    "soma_linhas_programado_2 = programado_s2 + programado_n2\n",
    "\n",
    "print(f'O total de linhas é {soma_linhas_totais_2} sendo: \\n express: {soma_linhas_express_2} \\n semanal: {soma_linhas_semanal_2} \\n estoque {soma_linhas_estoque_2} \\n programado {soma_linhas_programado_2}')"
   ]
  },
  {
   "cell_type": "markdown",
   "metadata": {},
   "source": [
    "## Pendente atendimento - ZVA05 ##"
   ]
  },
  {
   "cell_type": "markdown",
   "metadata": {},
   "source": [
    "* Lembrar de SEMPRE ajustar as colunas \"Análise\", \"Análise 2\" e \"Classif. Ped. Rede\"\n",
    "* Apagar primeira linha da planilha para identificar as colunas"
   ]
  },
  {
   "cell_type": "code",
   "execution_count": null,
   "metadata": {},
   "outputs": [],
   "source": [
    "# Criando coluna com a data prevista de atendimento \n",
    "df_05['A~Em'] = pd.to_datetime(df_05['A~Em'])\n",
    "\n",
    "def calculo_data_limite(row):\n",
    "    if row['Classif. Ped. Rede'] == 'Express':\n",
    "        return row['A~Em'] + pd.Timedelta(days=4)\n",
    "    elif row['Classif. Ped. Rede'] == 'Semanal':\n",
    "        return row['A~Em'] + pd.Timedelta(days=7)\n",
    "    elif row['Classif. Ped. Rede'] == 'Estoque':\n",
    "        return row['A~Em'] + pd.Timedelta(days=21)\n",
    "    elif row['Classif. Ped. Rede'] == 'Programado':\n",
    "        return row['A~Em'] + pd.Timedelta(days=120)\n",
    "    else:\n",
    "        return row['A~Em']  \n",
    "\n",
    "# Aplicando a função para criar a nova coluna\n",
    "df_05['data limite atendimento'] = df_05.apply(calculo_data_limite, axis=1)\n",
    "\n",
    "df_05.dtypes\n"
   ]
  },
  {
   "cell_type": "markdown",
   "metadata": {},
   "source": [
    "## Filtrando apenas o mês de interesse ##\n"
   ]
  },
  {
   "cell_type": "code",
   "execution_count": null,
   "metadata": {},
   "outputs": [],
   "source": [
    "data_inicio_prevista = pd.Timestamp('2024-12-01')\n",
    "data_fim_prevista = pd.Timestamp('2024-12-31')\n",
    "df_05 = df_05[(df_05['data limite atendimento'] >= data_inicio_faturamento) & (df_05['data limite atendimento'] <= data_fim_faturamento)]\n",
    "\n",
    "linhas_4 = len(df_05)\n",
    "print(linhas_4)"
   ]
  },
  {
   "cell_type": "code",
   "execution_count": null,
   "metadata": {},
   "outputs": [],
   "source": [
    "# Contagem de linhas por tipo de pedido - Pendente Atendimento\n",
    "\n",
    "# Verifica ambas as condições desejadas\n",
    "condicao_17 = (df_05['Classif. Ped. Rede'] == 'Express') & (df_05['Análise 2'] == 'Disponível')\n",
    "condicao_18 = (df_05['Classif. Ped. Rede'] == 'Express') & (df_05['Análise 2'] == 'Pendente Atendimento')\n",
    "\n",
    "condicao_19 = (df_05['Classif. Ped. Rede'] == 'Semanal') & (df_05['Análise 2'] == 'Disponível')\n",
    "condicao_20 = (df_05['Classif. Ped. Rede'] == 'Semanal') & (df_05['Análise 2'] == 'Pendente Atendimento')\n",
    "\n",
    "condicao_21 = (df_05['Classif. Ped. Rede'] == 'Estoque') & (df_05['Análise 2'] == 'Disponível')\n",
    "condicao_22 = (df_05['Classif. Ped. Rede'] == 'Estoque') & (df_05['Análise 2'] == 'Pendente Atendimento')\n",
    "\n",
    "condicao_23 = (df_05['Classif. Ped. Rede'] == 'Programado') & (df_05['Análise 2'] == 'Disponível')\n",
    "condicao_24 = (df_05['Classif. Ped. Rede'] == 'Programado') & (df_05['Análise 2'] == 'Pendente Atendimento')\n",
    "\n",
    "# Contar as linhas que satisfazem a condição\n",
    "express_s3 = condicao_17.sum()\n",
    "express_n3 = condicao_18.sum()\n",
    "\n",
    "semanal_s3 = condicao_19.sum()\n",
    "semanal_n3 = condicao_20.sum()\n",
    "\n",
    "estoque_s3 = condicao_21.sum()\n",
    "estoque_n3 = condicao_22.sum()\n",
    "\n",
    "programado_s3 = condicao_23.sum()\n",
    "programado_n3 = condicao_24.sum()\n",
    "\n",
    "soma_linhas_totais_3 = express_s3 + express_n3 + semanal_s3 + semanal_n3 + estoque_s3 + estoque_n3 + programado_s3 + programado_n3\n",
    "\n",
    "soma_linhas_express_3 = express_s3 + express_n3\n",
    "soma_linhas_semanal_3 = semanal_s3 + semanal_n3\n",
    "soma_linhas_estoque_3 = estoque_s3 + estoque_n3\n",
    "soma_linhas_programado_3 = programado_s3 + programado_n3\n",
    "\n",
    "print(f'O total de linhas é {soma_linhas_totais_3} sendo: \\n express: {soma_linhas_express_3} \\n semanal: {soma_linhas_semanal_3} \\n estoque {soma_linhas_estoque_3} \\n programado {soma_linhas_programado_3}')"
   ]
  },
  {
   "cell_type": "markdown",
   "metadata": {},
   "source": [
    "## TAXA DE ATENDIMENTO "
   ]
  },
  {
   "cell_type": "code",
   "execution_count": null,
   "metadata": {},
   "outputs": [],
   "source": [
    "# Taxa Global\n",
    "taxa_global = round(((express_s1 + express_s2 + express_s3 + semanal_s1 + semanal_s2 + semanal_s3 + estoque_s1 + estoque_s2 + estoque_s3 + programado_s1 + programado_s2 + programado_s3)/(soma_linhas_totais_1 + soma_linhas_totais_2 + soma_linhas_totais_3)*100), 2)\n",
    "print(f'Taxa Global = {taxa_global}%')\n",
    "\n",
    "# Taxa Express\n",
    "taxa_ex = round(((express_s1 + express_s2 + express_s3)/(express_s1 + express_s2 + express_s3 + express_n1 + express_n2 + express_n3))*100, 2)\n",
    "print(f'Taxa Express = {taxa_ex}%')\n",
    "\n",
    "# Taxa Semanal\n",
    "taxa_sem = round(((semanal_s1 + semanal_s2 + semanal_s3) / (semanal_s1 + semanal_s2 + semanal_s3 + semanal_n1 + semanal_n2 + semanal_n3))*100, 2)\n",
    "print(f'Taxa Semanal = {taxa_sem}%')\n",
    "\n",
    "# Taxa Estoque\n",
    "taxa_est = round(((estoque_s1 + estoque_s2 + estoque_s3)/(estoque_s1 + estoque_s2 + estoque_s3 + estoque_n1 + estoque_n2 + estoque_n3))*100, 2)\n",
    "print(f'Taxa Estoque = {taxa_est}%')\n",
    "\n",
    "# Taxa Programado\n",
    "taxa_pro = round(((programado_s1 + programado_s2 + programado_s3)/(programado_s1 + programado_s2 + programado_s3 + programado_n1 + programado_n2 + programado_n3))*100, 2)\n",
    "print(f'Taxa Programado = {taxa_pro}%')"
   ]
  }
 ],
 "metadata": {
  "kernelspec": {
   "display_name": "Python 3",
   "language": "python",
   "name": "python3"
  },
  "language_info": {
   "codemirror_mode": {
    "name": "ipython",
    "version": 3
   },
   "file_extension": ".py",
   "mimetype": "text/x-python",
   "name": "python",
   "nbconvert_exporter": "python",
   "pygments_lexer": "ipython3",
   "version": "3.12.2"
  }
 },
 "nbformat": 4,
 "nbformat_minor": 2
}
